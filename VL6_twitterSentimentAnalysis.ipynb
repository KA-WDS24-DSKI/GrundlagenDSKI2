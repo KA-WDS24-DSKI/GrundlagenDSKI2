{
 "cells": [
  {
   "cell_type": "code",
   "execution_count": 190,
   "metadata": {},
   "outputs": [
    {
     "name": "stderr",
     "output_type": "stream",
     "text": [
      "[nltk_data] Downloading package stopwords to\n",
      "[nltk_data]     /Users/schoch/nltk_data...\n",
      "[nltk_data]   Package stopwords is already up-to-date!\n"
     ]
    },
    {
     "data": {
      "text/plain": [
       "True"
      ]
     },
     "execution_count": 190,
     "metadata": {},
     "output_type": "execute_result"
    }
   ],
   "source": [
    "import pandas as pd\n",
    "import numpy as np\n",
    "import re\n",
    "import matplotlib.pyplot as plt\n",
    "\n",
    "from sklearn.feature_extraction.text import TfidfVectorizer, CountVectorizer, HashingVectorizer\n",
    "from sklearn.model_selection import train_test_split\n",
    "from sklearn.neighbors import KNeighborsClassifier\n",
    "from sklearn.metrics import accuracy_score, classification_report, f1_score\n",
    "from sklearn.preprocessing import MinMaxScaler\n",
    "from sklearn.preprocessing import Normalizer\n",
    "from sklearn.feature_extraction.text import TfidfVectorizer\n",
    "from sklearn.feature_extraction.text import CountVectorizer\n",
    "from sklearn.naive_bayes import MultinomialNB\n",
    "\n",
    "from tokenizers import Tokenizer\n",
    "from tokenizers.models import BPE\n",
    "from tokenizers.trainers import BpeTrainer\n",
    "from tokenizers.pre_tokenizers import Whitespace\n",
    "\n",
    "import nltk\n",
    "from nltk.corpus import stopwords\n",
    "nltk.download('stopwords')\n",
    "\n"
   ]
  },
  {
   "cell_type": "code",
   "execution_count": 68,
   "metadata": {},
   "outputs": [
    {
     "data": {
      "text/html": [
       "<div>\n",
       "<style scoped>\n",
       "    .dataframe tbody tr th:only-of-type {\n",
       "        vertical-align: middle;\n",
       "    }\n",
       "\n",
       "    .dataframe tbody tr th {\n",
       "        vertical-align: top;\n",
       "    }\n",
       "\n",
       "    .dataframe thead th {\n",
       "        text-align: right;\n",
       "    }\n",
       "</style>\n",
       "<table border=\"1\" class=\"dataframe\">\n",
       "  <thead>\n",
       "    <tr style=\"text-align: right;\">\n",
       "      <th></th>\n",
       "      <th>ID</th>\n",
       "      <th>Keyword</th>\n",
       "      <th>Sentiment</th>\n",
       "      <th>Tweet</th>\n",
       "    </tr>\n",
       "  </thead>\n",
       "  <tbody>\n",
       "    <tr>\n",
       "      <th>74676</th>\n",
       "      <td>9200</td>\n",
       "      <td>Nvidia</td>\n",
       "      <td>Positive</td>\n",
       "      <td>Just realized that the Windows partition of my...</td>\n",
       "    </tr>\n",
       "    <tr>\n",
       "      <th>74677</th>\n",
       "      <td>9200</td>\n",
       "      <td>Nvidia</td>\n",
       "      <td>Positive</td>\n",
       "      <td>Just realized that my Mac window partition is ...</td>\n",
       "    </tr>\n",
       "    <tr>\n",
       "      <th>74678</th>\n",
       "      <td>9200</td>\n",
       "      <td>Nvidia</td>\n",
       "      <td>Positive</td>\n",
       "      <td>Just realized the windows partition of my Mac ...</td>\n",
       "    </tr>\n",
       "    <tr>\n",
       "      <th>74679</th>\n",
       "      <td>9200</td>\n",
       "      <td>Nvidia</td>\n",
       "      <td>Positive</td>\n",
       "      <td>Just realized between the windows partition of...</td>\n",
       "    </tr>\n",
       "    <tr>\n",
       "      <th>74680</th>\n",
       "      <td>9200</td>\n",
       "      <td>Nvidia</td>\n",
       "      <td>Positive</td>\n",
       "      <td>Just like the windows partition of my Mac is l...</td>\n",
       "    </tr>\n",
       "  </tbody>\n",
       "</table>\n",
       "</div>"
      ],
      "text/plain": [
       "         ID Keyword Sentiment  \\\n",
       "74676  9200  Nvidia  Positive   \n",
       "74677  9200  Nvidia  Positive   \n",
       "74678  9200  Nvidia  Positive   \n",
       "74679  9200  Nvidia  Positive   \n",
       "74680  9200  Nvidia  Positive   \n",
       "\n",
       "                                                   Tweet  \n",
       "74676  Just realized that the Windows partition of my...  \n",
       "74677  Just realized that my Mac window partition is ...  \n",
       "74678  Just realized the windows partition of my Mac ...  \n",
       "74679  Just realized between the windows partition of...  \n",
       "74680  Just like the windows partition of my Mac is l...  "
      ]
     },
     "execution_count": 68,
     "metadata": {},
     "output_type": "execute_result"
    }
   ],
   "source": [
    "df = pd.read_csv('twitterSentimentAnalysis/twitter_training.csv')\n",
    "df.columns=['ID','Keyword','Sentiment','Tweet']\n",
    "df.tail()"
   ]
  },
  {
   "cell_type": "code",
   "execution_count": 69,
   "metadata": {},
   "outputs": [
    {
     "name": "stdout",
     "output_type": "stream",
     "text": [
      "<class 'pandas.core.frame.DataFrame'>\n",
      "RangeIndex: 74681 entries, 0 to 74680\n",
      "Data columns (total 4 columns):\n",
      " #   Column     Non-Null Count  Dtype \n",
      "---  ------     --------------  ----- \n",
      " 0   ID         74681 non-null  int64 \n",
      " 1   Keyword    74681 non-null  object\n",
      " 2   Sentiment  74681 non-null  object\n",
      " 3   Tweet      73995 non-null  object\n",
      "dtypes: int64(1), object(3)\n",
      "memory usage: 2.3+ MB\n"
     ]
    }
   ],
   "source": [
    "df.info()"
   ]
  },
  {
   "cell_type": "code",
   "execution_count": 70,
   "metadata": {},
   "outputs": [
    {
     "data": {
      "text/plain": [
       "array(['Positive', 'Neutral', 'Negative', 'Irrelevant'], dtype=object)"
      ]
     },
     "execution_count": 70,
     "metadata": {},
     "output_type": "execute_result"
    }
   ],
   "source": [
    "df.Sentiment.unique()"
   ]
  },
  {
   "cell_type": "code",
   "execution_count": 71,
   "metadata": {},
   "outputs": [
    {
     "data": {
      "image/png": "[encoded data removed]",
      "text/plain": [
       "<Figure size 640x480 with 1 Axes>"
      ]
     },
     "metadata": {},
     "output_type": "display_data"
    }
   ],
   "source": [
    "figure = plt.hist(df.Sentiment)\n",
    "figure = plt.title('Sentiment')\n",
    "plt.show()"
   ]
  },
  {
   "cell_type": "code",
   "execution_count": 72,
   "metadata": {},
   "outputs": [],
   "source": [
    "# Series.str ermöglicht es auf die Werte der Series als Strings zuzugreifen und Stringoperationen anzuwenden\n",
    "# lower(): Umwandlung in Kleinbuchstaben\n",
    "df.Tweet = df.Tweet.str.lower()\n",
    "\n",
    "# replace()\n",
    "df.Tweet = df.Tweet.str.replace(r\"https?://\\S+|www\\.\\S+\", \"\", regex=True) # URLs entfernen\n",
    "df.Tweet = df.Tweet.str.replace(r\"@\\w+\", \"\", regex=True) # @ Mentions entfernen\n",
    "df.Tweet = df.Tweet.str.replace(r\"[^\\w\\s]\", \"\", regex=True) # alles entfernen, das nicht \\w - alphanumerische Zeichen oder \\s beliebiges Zeichen inkl. Tab und Space ist"
   ]
  },
  {
   "cell_type": "code",
   "execution_count": 73,
   "metadata": {},
   "outputs": [
    {
     "data": {
      "text/html": [
       "<div>\n",
       "<style scoped>\n",
       "    .dataframe tbody tr th:only-of-type {\n",
       "        vertical-align: middle;\n",
       "    }\n",
       "\n",
       "    .dataframe tbody tr th {\n",
       "        vertical-align: top;\n",
       "    }\n",
       "\n",
       "    .dataframe thead th {\n",
       "        text-align: right;\n",
       "    }\n",
       "</style>\n",
       "<table border=\"1\" class=\"dataframe\">\n",
       "  <thead>\n",
       "    <tr style=\"text-align: right;\">\n",
       "      <th></th>\n",
       "      <th>ID</th>\n",
       "      <th>Keyword</th>\n",
       "      <th>Sentiment</th>\n",
       "      <th>Tweet</th>\n",
       "    </tr>\n",
       "  </thead>\n",
       "  <tbody>\n",
       "    <tr>\n",
       "      <th>74676</th>\n",
       "      <td>9200</td>\n",
       "      <td>Nvidia</td>\n",
       "      <td>Positive</td>\n",
       "      <td>just realized that the windows partition of my...</td>\n",
       "    </tr>\n",
       "    <tr>\n",
       "      <th>74677</th>\n",
       "      <td>9200</td>\n",
       "      <td>Nvidia</td>\n",
       "      <td>Positive</td>\n",
       "      <td>just realized that my mac window partition is ...</td>\n",
       "    </tr>\n",
       "    <tr>\n",
       "      <th>74678</th>\n",
       "      <td>9200</td>\n",
       "      <td>Nvidia</td>\n",
       "      <td>Positive</td>\n",
       "      <td>just realized the windows partition of my mac ...</td>\n",
       "    </tr>\n",
       "    <tr>\n",
       "      <th>74679</th>\n",
       "      <td>9200</td>\n",
       "      <td>Nvidia</td>\n",
       "      <td>Positive</td>\n",
       "      <td>just realized between the windows partition of...</td>\n",
       "    </tr>\n",
       "    <tr>\n",
       "      <th>74680</th>\n",
       "      <td>9200</td>\n",
       "      <td>Nvidia</td>\n",
       "      <td>Positive</td>\n",
       "      <td>just like the windows partition of my mac is l...</td>\n",
       "    </tr>\n",
       "  </tbody>\n",
       "</table>\n",
       "</div>"
      ],
      "text/plain": [
       "         ID Keyword Sentiment  \\\n",
       "74676  9200  Nvidia  Positive   \n",
       "74677  9200  Nvidia  Positive   \n",
       "74678  9200  Nvidia  Positive   \n",
       "74679  9200  Nvidia  Positive   \n",
       "74680  9200  Nvidia  Positive   \n",
       "\n",
       "                                                   Tweet  \n",
       "74676  just realized that the windows partition of my...  \n",
       "74677  just realized that my mac window partition is ...  \n",
       "74678  just realized the windows partition of my mac ...  \n",
       "74679  just realized between the windows partition of...  \n",
       "74680  just like the windows partition of my mac is l...  "
      ]
     },
     "execution_count": 73,
     "metadata": {},
     "output_type": "execute_result"
    }
   ],
   "source": [
    "df.tail()"
   ]
  },
  {
   "cell_type": "code",
   "execution_count": 74,
   "metadata": {},
   "outputs": [
    {
     "name": "stdout",
     "output_type": "stream",
     "text": [
      "<class 'pandas.core.frame.DataFrame'>\n",
      "RangeIndex: 74681 entries, 0 to 74680\n",
      "Data columns (total 4 columns):\n",
      " #   Column     Non-Null Count  Dtype \n",
      "---  ------     --------------  ----- \n",
      " 0   ID         74681 non-null  int64 \n",
      " 1   Keyword    74681 non-null  object\n",
      " 2   Sentiment  74681 non-null  object\n",
      " 3   Tweet      73995 non-null  object\n",
      "dtypes: int64(1), object(3)\n",
      "memory usage: 2.3+ MB\n",
      "<class 'pandas.core.frame.DataFrame'>\n",
      "Index: 73995 entries, 0 to 74680\n",
      "Data columns (total 4 columns):\n",
      " #   Column     Non-Null Count  Dtype \n",
      "---  ------     --------------  ----- \n",
      " 0   ID         73995 non-null  int64 \n",
      " 1   Keyword    73995 non-null  object\n",
      " 2   Sentiment  73995 non-null  object\n",
      " 3   Tweet      73995 non-null  object\n",
      "dtypes: int64(1), object(3)\n",
      "memory usage: 2.8+ MB\n"
     ]
    }
   ],
   "source": [
    "df.info()\n",
    "df = df.dropna() # Zeilen mit fehlenden Werten löschen\n",
    "df.info()"
   ]
  },
  {
   "cell_type": "markdown",
   "metadata": {},
   "source": [
    "## Kann bereits ein KNN Modell trainiert werden?"
   ]
  },
  {
   "cell_type": "code",
   "execution_count": 75,
   "metadata": {},
   "outputs": [
    {
     "ename": "ValueError",
     "evalue": "could not convert string to float: 'i had a dream my girlfriend and i got married and rthen we had to drive home only a fuckin runaway bus and a hippie dude and there was a montage of buses blocking all 3 lanes or me racing up hills with no road just fuckin blow thru shit up like it was grand theft auto'",
     "output_type": "error",
     "traceback": [
      "\u001b[0;31m---------------------------------------------------------------------------\u001b[0m",
      "\u001b[0;31mValueError\u001b[0m                                Traceback (most recent call last)",
      "\u001b[1;32m/Users/schoch/Documents/0_Vorlesungen/GrundlagenDSKI/DSKI_2025_Teil2/GitHub/VorlesungsbegleitendeSkripte_DSKI2/VL4_twitterSentimentAnalysis.ipynb Zelle 10\u001b[0m line \u001b[0;36m1\n\u001b[1;32m      <a href='vscode-notebook-cell:/Users/schoch/Documents/0_Vorlesungen/GrundlagenDSKI/DSKI_2025_Teil2/GitHub/VorlesungsbegleitendeSkripte_DSKI2/VL4_twitterSentimentAnalysis.ipynb#X12sZmlsZQ%3D%3D?line=8'>9</a>\u001b[0m knn \u001b[39m=\u001b[39m KNeighborsClassifier(n_neighbors\u001b[39m=\u001b[39m\u001b[39m3\u001b[39m, metric\u001b[39m=\u001b[39m\u001b[39m'\u001b[39m\u001b[39mhamming\u001b[39m\u001b[39m'\u001b[39m)  \u001b[39m# k=3 als Beispiel, Hamming-Distanz als Abstandsmetrik für qualitative Variablen\u001b[39;00m\n\u001b[1;32m     <a href='vscode-notebook-cell:/Users/schoch/Documents/0_Vorlesungen/GrundlagenDSKI/DSKI_2025_Teil2/GitHub/VorlesungsbegleitendeSkripte_DSKI2/VL4_twitterSentimentAnalysis.ipynb#X12sZmlsZQ%3D%3D?line=9'>10</a>\u001b[0m \u001b[39m# Fehlermeldung X muss float sein\u001b[39;00m\n\u001b[1;32m     <a href='vscode-notebook-cell:/Users/schoch/Documents/0_Vorlesungen/GrundlagenDSKI/DSKI_2025_Teil2/GitHub/VorlesungsbegleitendeSkripte_DSKI2/VL4_twitterSentimentAnalysis.ipynb#X12sZmlsZQ%3D%3D?line=10'>11</a>\u001b[0m \u001b[39m# Modelltraining\u001b[39;00m\n\u001b[0;32m---> <a href='vscode-notebook-cell:/Users/schoch/Documents/0_Vorlesungen/GrundlagenDSKI/DSKI_2025_Teil2/GitHub/VorlesungsbegleitendeSkripte_DSKI2/VL4_twitterSentimentAnalysis.ipynb#X12sZmlsZQ%3D%3D?line=11'>12</a>\u001b[0m knn\u001b[39m.\u001b[39;49mfit(X_train, y_train)\n\u001b[1;32m     <a href='vscode-notebook-cell:/Users/schoch/Documents/0_Vorlesungen/GrundlagenDSKI/DSKI_2025_Teil2/GitHub/VorlesungsbegleitendeSkripte_DSKI2/VL4_twitterSentimentAnalysis.ipynb#X12sZmlsZQ%3D%3D?line=13'>14</a>\u001b[0m \u001b[39m# Erstellen eines Gitternetzes von Punkten zum Plotten der Entscheidungsgrenzen\u001b[39;00m\n\u001b[1;32m     <a href='vscode-notebook-cell:/Users/schoch/Documents/0_Vorlesungen/GrundlagenDSKI/DSKI_2025_Teil2/GitHub/VorlesungsbegleitendeSkripte_DSKI2/VL4_twitterSentimentAnalysis.ipynb#X12sZmlsZQ%3D%3D?line=14'>15</a>\u001b[0m x_min, x_max \u001b[39m=\u001b[39m X[:, \u001b[39m0\u001b[39m]\u001b[39m.\u001b[39mmin() \u001b[39m-\u001b[39m \u001b[39m1\u001b[39m, X[:, \u001b[39m0\u001b[39m]\u001b[39m.\u001b[39mmax() \u001b[39m+\u001b[39m \u001b[39m1\u001b[39m\n",
      "File \u001b[0;32m/opt/anaconda3/envs/ISLP/lib/python3.9/site-packages/sklearn/base.py:1474\u001b[0m, in \u001b[0;36m_fit_context.<locals>.decorator.<locals>.wrapper\u001b[0;34m(estimator, *args, **kwargs)\u001b[0m\n\u001b[1;32m   1467\u001b[0m     estimator\u001b[39m.\u001b[39m_validate_params()\n\u001b[1;32m   1469\u001b[0m \u001b[39mwith\u001b[39;00m config_context(\n\u001b[1;32m   1470\u001b[0m     skip_parameter_validation\u001b[39m=\u001b[39m(\n\u001b[1;32m   1471\u001b[0m         prefer_skip_nested_validation \u001b[39mor\u001b[39;00m global_skip_validation\n\u001b[1;32m   1472\u001b[0m     )\n\u001b[1;32m   1473\u001b[0m ):\n\u001b[0;32m-> 1474\u001b[0m     \u001b[39mreturn\u001b[39;00m fit_method(estimator, \u001b[39m*\u001b[39;49margs, \u001b[39m*\u001b[39;49m\u001b[39m*\u001b[39;49mkwargs)\n",
      "File \u001b[0;32m/opt/anaconda3/envs/ISLP/lib/python3.9/site-packages/sklearn/neighbors/_classification.py:238\u001b[0m, in \u001b[0;36mKNeighborsClassifier.fit\u001b[0;34m(self, X, y)\u001b[0m\n\u001b[1;32m    216\u001b[0m \u001b[39m@_fit_context\u001b[39m(\n\u001b[1;32m    217\u001b[0m     \u001b[39m# KNeighborsClassifier.metric is not validated yet\u001b[39;00m\n\u001b[1;32m    218\u001b[0m     prefer_skip_nested_validation\u001b[39m=\u001b[39m\u001b[39mFalse\u001b[39;00m\n\u001b[1;32m    219\u001b[0m )\n\u001b[1;32m    220\u001b[0m \u001b[39mdef\u001b[39;00m \u001b[39mfit\u001b[39m(\u001b[39mself\u001b[39m, X, y):\n\u001b[1;32m    221\u001b[0m \u001b[39m    \u001b[39m\u001b[39m\"\"\"Fit the k-nearest neighbors classifier from the training dataset.\u001b[39;00m\n\u001b[1;32m    222\u001b[0m \n\u001b[1;32m    223\u001b[0m \u001b[39m    Parameters\u001b[39;00m\n\u001b[0;32m   (...)\u001b[0m\n\u001b[1;32m    236\u001b[0m \u001b[39m        The fitted k-nearest neighbors classifier.\u001b[39;00m\n\u001b[1;32m    237\u001b[0m \u001b[39m    \"\"\"\u001b[39;00m\n\u001b[0;32m--> 238\u001b[0m     \u001b[39mreturn\u001b[39;00m \u001b[39mself\u001b[39;49m\u001b[39m.\u001b[39;49m_fit(X, y)\n",
      "File \u001b[0;32m/opt/anaconda3/envs/ISLP/lib/python3.9/site-packages/sklearn/neighbors/_base.py:476\u001b[0m, in \u001b[0;36mNeighborsBase._fit\u001b[0;34m(self, X, y)\u001b[0m\n\u001b[1;32m    474\u001b[0m \u001b[39mif\u001b[39;00m \u001b[39mself\u001b[39m\u001b[39m.\u001b[39m_get_tags()[\u001b[39m\"\u001b[39m\u001b[39mrequires_y\u001b[39m\u001b[39m\"\u001b[39m]:\n\u001b[1;32m    475\u001b[0m     \u001b[39mif\u001b[39;00m \u001b[39mnot\u001b[39;00m \u001b[39misinstance\u001b[39m(X, (KDTree, BallTree, NeighborsBase)):\n\u001b[0;32m--> 476\u001b[0m         X, y \u001b[39m=\u001b[39m \u001b[39mself\u001b[39;49m\u001b[39m.\u001b[39;49m_validate_data(\n\u001b[1;32m    477\u001b[0m             X, y, accept_sparse\u001b[39m=\u001b[39;49m\u001b[39m\"\u001b[39;49m\u001b[39mcsr\u001b[39;49m\u001b[39m\"\u001b[39;49m, multi_output\u001b[39m=\u001b[39;49m\u001b[39mTrue\u001b[39;49;00m, order\u001b[39m=\u001b[39;49m\u001b[39m\"\u001b[39;49m\u001b[39mC\u001b[39;49m\u001b[39m\"\u001b[39;49m\n\u001b[1;32m    478\u001b[0m         )\n\u001b[1;32m    480\u001b[0m     \u001b[39mif\u001b[39;00m is_classifier(\u001b[39mself\u001b[39m):\n\u001b[1;32m    481\u001b[0m         \u001b[39m# Classification targets require a specific format\u001b[39;00m\n\u001b[1;32m    482\u001b[0m         \u001b[39mif\u001b[39;00m y\u001b[39m.\u001b[39mndim \u001b[39m==\u001b[39m \u001b[39m1\u001b[39m \u001b[39mor\u001b[39;00m y\u001b[39m.\u001b[39mndim \u001b[39m==\u001b[39m \u001b[39m2\u001b[39m \u001b[39mand\u001b[39;00m y\u001b[39m.\u001b[39mshape[\u001b[39m1\u001b[39m] \u001b[39m==\u001b[39m \u001b[39m1\u001b[39m:\n",
      "File \u001b[0;32m/opt/anaconda3/envs/ISLP/lib/python3.9/site-packages/sklearn/base.py:650\u001b[0m, in \u001b[0;36mBaseEstimator._validate_data\u001b[0;34m(self, X, y, reset, validate_separately, cast_to_ndarray, **check_params)\u001b[0m\n\u001b[1;32m    648\u001b[0m         y \u001b[39m=\u001b[39m check_array(y, input_name\u001b[39m=\u001b[39m\u001b[39m\"\u001b[39m\u001b[39my\u001b[39m\u001b[39m\"\u001b[39m, \u001b[39m*\u001b[39m\u001b[39m*\u001b[39mcheck_y_params)\n\u001b[1;32m    649\u001b[0m     \u001b[39melse\u001b[39;00m:\n\u001b[0;32m--> 650\u001b[0m         X, y \u001b[39m=\u001b[39m check_X_y(X, y, \u001b[39m*\u001b[39;49m\u001b[39m*\u001b[39;49mcheck_params)\n\u001b[1;32m    651\u001b[0m     out \u001b[39m=\u001b[39m X, y\n\u001b[1;32m    653\u001b[0m \u001b[39mif\u001b[39;00m \u001b[39mnot\u001b[39;00m no_val_X \u001b[39mand\u001b[39;00m check_params\u001b[39m.\u001b[39mget(\u001b[39m\"\u001b[39m\u001b[39mensure_2d\u001b[39m\u001b[39m\"\u001b[39m, \u001b[39mTrue\u001b[39;00m):\n",
      "File \u001b[0;32m/opt/anaconda3/envs/ISLP/lib/python3.9/site-packages/sklearn/utils/validation.py:1263\u001b[0m, in \u001b[0;36mcheck_X_y\u001b[0;34m(X, y, accept_sparse, accept_large_sparse, dtype, order, copy, force_all_finite, ensure_2d, allow_nd, multi_output, ensure_min_samples, ensure_min_features, y_numeric, estimator)\u001b[0m\n\u001b[1;32m   1258\u001b[0m         estimator_name \u001b[39m=\u001b[39m _check_estimator_name(estimator)\n\u001b[1;32m   1259\u001b[0m     \u001b[39mraise\u001b[39;00m \u001b[39mValueError\u001b[39;00m(\n\u001b[1;32m   1260\u001b[0m         \u001b[39mf\u001b[39m\u001b[39m\"\u001b[39m\u001b[39m{\u001b[39;00mestimator_name\u001b[39m}\u001b[39;00m\u001b[39m requires y to be passed, but the target y is None\u001b[39m\u001b[39m\"\u001b[39m\n\u001b[1;32m   1261\u001b[0m     )\n\u001b[0;32m-> 1263\u001b[0m X \u001b[39m=\u001b[39m check_array(\n\u001b[1;32m   1264\u001b[0m     X,\n\u001b[1;32m   1265\u001b[0m     accept_sparse\u001b[39m=\u001b[39;49maccept_sparse,\n\u001b[1;32m   1266\u001b[0m     accept_large_sparse\u001b[39m=\u001b[39;49maccept_large_sparse,\n\u001b[1;32m   1267\u001b[0m     dtype\u001b[39m=\u001b[39;49mdtype,\n\u001b[1;32m   1268\u001b[0m     order\u001b[39m=\u001b[39;49morder,\n\u001b[1;32m   1269\u001b[0m     copy\u001b[39m=\u001b[39;49mcopy,\n\u001b[1;32m   1270\u001b[0m     force_all_finite\u001b[39m=\u001b[39;49mforce_all_finite,\n\u001b[1;32m   1271\u001b[0m     ensure_2d\u001b[39m=\u001b[39;49mensure_2d,\n\u001b[1;32m   1272\u001b[0m     allow_nd\u001b[39m=\u001b[39;49mallow_nd,\n\u001b[1;32m   1273\u001b[0m     ensure_min_samples\u001b[39m=\u001b[39;49mensure_min_samples,\n\u001b[1;32m   1274\u001b[0m     ensure_min_features\u001b[39m=\u001b[39;49mensure_min_features,\n\u001b[1;32m   1275\u001b[0m     estimator\u001b[39m=\u001b[39;49mestimator,\n\u001b[1;32m   1276\u001b[0m     input_name\u001b[39m=\u001b[39;49m\u001b[39m\"\u001b[39;49m\u001b[39mX\u001b[39;49m\u001b[39m\"\u001b[39;49m,\n\u001b[1;32m   1277\u001b[0m )\n\u001b[1;32m   1279\u001b[0m y \u001b[39m=\u001b[39m _check_y(y, multi_output\u001b[39m=\u001b[39mmulti_output, y_numeric\u001b[39m=\u001b[39my_numeric, estimator\u001b[39m=\u001b[39mestimator)\n\u001b[1;32m   1281\u001b[0m check_consistent_length(X, y)\n",
      "File \u001b[0;32m/opt/anaconda3/envs/ISLP/lib/python3.9/site-packages/sklearn/utils/validation.py:997\u001b[0m, in \u001b[0;36mcheck_array\u001b[0;34m(array, accept_sparse, accept_large_sparse, dtype, order, copy, force_all_finite, ensure_2d, allow_nd, ensure_min_samples, ensure_min_features, estimator, input_name)\u001b[0m\n\u001b[1;32m    995\u001b[0m         array \u001b[39m=\u001b[39m xp\u001b[39m.\u001b[39mastype(array, dtype, copy\u001b[39m=\u001b[39m\u001b[39mFalse\u001b[39;00m)\n\u001b[1;32m    996\u001b[0m     \u001b[39melse\u001b[39;00m:\n\u001b[0;32m--> 997\u001b[0m         array \u001b[39m=\u001b[39m _asarray_with_order(array, order\u001b[39m=\u001b[39;49morder, dtype\u001b[39m=\u001b[39;49mdtype, xp\u001b[39m=\u001b[39;49mxp)\n\u001b[1;32m    998\u001b[0m \u001b[39mexcept\u001b[39;00m ComplexWarning \u001b[39mas\u001b[39;00m complex_warning:\n\u001b[1;32m    999\u001b[0m     \u001b[39mraise\u001b[39;00m \u001b[39mValueError\u001b[39;00m(\n\u001b[1;32m   1000\u001b[0m         \u001b[39m\"\u001b[39m\u001b[39mComplex data not supported\u001b[39m\u001b[39m\\n\u001b[39;00m\u001b[39m{}\u001b[39;00m\u001b[39m\\n\u001b[39;00m\u001b[39m\"\u001b[39m\u001b[39m.\u001b[39mformat(array)\n\u001b[1;32m   1001\u001b[0m     ) \u001b[39mfrom\u001b[39;00m \u001b[39mcomplex_warning\u001b[39;00m\n",
      "File \u001b[0;32m/opt/anaconda3/envs/ISLP/lib/python3.9/site-packages/sklearn/utils/_array_api.py:521\u001b[0m, in \u001b[0;36m_asarray_with_order\u001b[0;34m(array, dtype, order, copy, xp)\u001b[0m\n\u001b[1;32m    519\u001b[0m     array \u001b[39m=\u001b[39m numpy\u001b[39m.\u001b[39marray(array, order\u001b[39m=\u001b[39morder, dtype\u001b[39m=\u001b[39mdtype)\n\u001b[1;32m    520\u001b[0m \u001b[39melse\u001b[39;00m:\n\u001b[0;32m--> 521\u001b[0m     array \u001b[39m=\u001b[39m numpy\u001b[39m.\u001b[39;49masarray(array, order\u001b[39m=\u001b[39;49morder, dtype\u001b[39m=\u001b[39;49mdtype)\n\u001b[1;32m    523\u001b[0m \u001b[39m# At this point array is a NumPy ndarray. We convert it to an array\u001b[39;00m\n\u001b[1;32m    524\u001b[0m \u001b[39m# container that is consistent with the input's namespace.\u001b[39;00m\n\u001b[1;32m    525\u001b[0m \u001b[39mreturn\u001b[39;00m xp\u001b[39m.\u001b[39masarray(array)\n",
      "File \u001b[0;32m/opt/anaconda3/envs/ISLP/lib/python3.9/site-packages/pandas/core/series.py:1031\u001b[0m, in \u001b[0;36mSeries.__array__\u001b[0;34m(self, dtype, copy)\u001b[0m\n\u001b[1;32m    981\u001b[0m \u001b[39m\u001b[39m\u001b[39m\"\"\"\u001b[39;00m\n\u001b[1;32m    982\u001b[0m \u001b[39mReturn the values as a NumPy array.\u001b[39;00m\n\u001b[1;32m    983\u001b[0m \n\u001b[0;32m   (...)\u001b[0m\n\u001b[1;32m   1028\u001b[0m \u001b[39m      dtype='datetime64[ns]')\u001b[39;00m\n\u001b[1;32m   1029\u001b[0m \u001b[39m\"\"\"\u001b[39;00m\n\u001b[1;32m   1030\u001b[0m values \u001b[39m=\u001b[39m \u001b[39mself\u001b[39m\u001b[39m.\u001b[39m_values\n\u001b[0;32m-> 1031\u001b[0m arr \u001b[39m=\u001b[39m np\u001b[39m.\u001b[39;49masarray(values, dtype\u001b[39m=\u001b[39;49mdtype)\n\u001b[1;32m   1032\u001b[0m \u001b[39mif\u001b[39;00m using_copy_on_write() \u001b[39mand\u001b[39;00m astype_is_view(values\u001b[39m.\u001b[39mdtype, arr\u001b[39m.\u001b[39mdtype):\n\u001b[1;32m   1033\u001b[0m     arr \u001b[39m=\u001b[39m arr\u001b[39m.\u001b[39mview()\n",
      "\u001b[0;31mValueError\u001b[0m: could not convert string to float: 'i had a dream my girlfriend and i got married and rthen we had to drive home only a fuckin runaway bus and a hippie dude and there was a montage of buses blocking all 3 lanes or me racing up hills with no road just fuckin blow thru shit up like it was grand theft auto'"
     ]
    }
   ],
   "source": [
    "# Aufteilen des Datensatzes in Input- und Outputvariablen\n",
    "X = df.Tweet # Input-Variablen: Tweet\n",
    "y = df.Sentiment\n",
    "\n",
    "# Aufteilen des Datensatzes in Trainings- und Testdaten\n",
    "X_train, X_test, y_train, y_test = train_test_split(X, y, test_size=0.2, random_state=42)\n",
    "\n",
    "# Erstellen k-NN Klassifikators\n",
    "knn = KNeighborsClassifier(n_neighbors=3, metric='hamming')  # k=3 als Beispiel, Hamming-Distanz als Abstandsmetrik für qualitative Variablen\n",
    "# Fehlermeldung X muss float sein\n",
    "# Modelltraining\n",
    "knn.fit(X_train, y_train)\n",
    "\n",
    "# Erstellen eines Gitternetzes von Punkten zum Plotten der Entscheidungsgrenzen\n",
    "x_min, x_max = X[:, 0].min() - 1, X[:, 0].max() + 1\n",
    "y_min, y_max = X[:, 1].min() - 1, X[:, 1].max() + 1\n",
    "xx, yy = np.meshgrid(np.arange(x_min, x_max, 0.02),\n",
    "                     np.arange(y_min, y_max, 0.02))\n",
    "\n",
    "# Vorhersagen auf dem Gitternetz\n",
    "Z = knn.predict(np.c_[xx.ravel(), yy.ravel()])\n",
    "Z = Z.reshape(xx.shape)\n",
    "\n",
    "# Erstellen der Plot\n",
    "plt.figure(figsize=(10, 6))\n",
    "plt.contourf(xx, yy, Z, alpha=0.8, cmap=ListedColormap(['#FFAAAA', '#AAFFAA', '#AAAAFF']))\n",
    "plt.scatter(X[:, 0], X[:, 1], c=y, edgecolor='k', s=20, cmap=ListedColormap(['#FF0000', '#00FF00', '#0000FF']))\n",
    "plt.xlim(xx.min(), xx.max())\n",
    "plt.ylim(yy.min(), yy.max())\n",
    "plt.xlabel(iris.feature_names[0])\n",
    "plt.ylabel(iris.feature_names[1])\n",
    "plt.title('k-NN Klassifikation (k=3) mit Klassengrenzen')\n",
    "plt.show()\n"
   ]
  },
  {
   "cell_type": "markdown",
   "metadata": {},
   "source": [
    "## Wörter"
   ]
  },
  {
   "cell_type": "code",
   "execution_count": 76,
   "metadata": {},
   "outputs": [
    {
     "data": {
      "text/html": [
       "<div>\n",
       "<style scoped>\n",
       "    .dataframe tbody tr th:only-of-type {\n",
       "        vertical-align: middle;\n",
       "    }\n",
       "\n",
       "    .dataframe tbody tr th {\n",
       "        vertical-align: top;\n",
       "    }\n",
       "\n",
       "    .dataframe thead th {\n",
       "        text-align: right;\n",
       "    }\n",
       "</style>\n",
       "<table border=\"1\" class=\"dataframe\">\n",
       "  <thead>\n",
       "    <tr style=\"text-align: right;\">\n",
       "      <th></th>\n",
       "      <th>ID</th>\n",
       "      <th>Keyword</th>\n",
       "      <th>Sentiment</th>\n",
       "      <th>Tweet</th>\n",
       "      <th>words</th>\n",
       "    </tr>\n",
       "  </thead>\n",
       "  <tbody>\n",
       "    <tr>\n",
       "      <th>0</th>\n",
       "      <td>2401</td>\n",
       "      <td>Borderlands</td>\n",
       "      <td>Positive</td>\n",
       "      <td>i am coming to the borders and i will kill you...</td>\n",
       "      <td>[i, am, coming, to, the, borders, and, i, will...</td>\n",
       "    </tr>\n",
       "    <tr>\n",
       "      <th>1</th>\n",
       "      <td>2401</td>\n",
       "      <td>Borderlands</td>\n",
       "      <td>Positive</td>\n",
       "      <td>im getting on borderlands and i will kill you all</td>\n",
       "      <td>[im, getting, on, borderlands, and, i, will, k...</td>\n",
       "    </tr>\n",
       "    <tr>\n",
       "      <th>2</th>\n",
       "      <td>2401</td>\n",
       "      <td>Borderlands</td>\n",
       "      <td>Positive</td>\n",
       "      <td>im coming on borderlands and i will murder you...</td>\n",
       "      <td>[im, coming, on, borderlands, and, i, will, mu...</td>\n",
       "    </tr>\n",
       "    <tr>\n",
       "      <th>3</th>\n",
       "      <td>2401</td>\n",
       "      <td>Borderlands</td>\n",
       "      <td>Positive</td>\n",
       "      <td>im getting on borderlands 2 and i will murder ...</td>\n",
       "      <td>[im, getting, on, borderlands, 2, and, i, will...</td>\n",
       "    </tr>\n",
       "    <tr>\n",
       "      <th>4</th>\n",
       "      <td>2401</td>\n",
       "      <td>Borderlands</td>\n",
       "      <td>Positive</td>\n",
       "      <td>im getting into borderlands and i can murder y...</td>\n",
       "      <td>[im, getting, into, borderlands, and, i, can, ...</td>\n",
       "    </tr>\n",
       "  </tbody>\n",
       "</table>\n",
       "</div>"
      ],
      "text/plain": [
       "     ID      Keyword Sentiment  \\\n",
       "0  2401  Borderlands  Positive   \n",
       "1  2401  Borderlands  Positive   \n",
       "2  2401  Borderlands  Positive   \n",
       "3  2401  Borderlands  Positive   \n",
       "4  2401  Borderlands  Positive   \n",
       "\n",
       "                                               Tweet  \\\n",
       "0  i am coming to the borders and i will kill you...   \n",
       "1  im getting on borderlands and i will kill you all   \n",
       "2  im coming on borderlands and i will murder you...   \n",
       "3  im getting on borderlands 2 and i will murder ...   \n",
       "4  im getting into borderlands and i can murder y...   \n",
       "\n",
       "                                               words  \n",
       "0  [i, am, coming, to, the, borders, and, i, will...  \n",
       "1  [im, getting, on, borderlands, and, i, will, k...  \n",
       "2  [im, coming, on, borderlands, and, i, will, mu...  \n",
       "3  [im, getting, on, borderlands, 2, and, i, will...  \n",
       "4  [im, getting, into, borderlands, and, i, can, ...  "
      ]
     },
     "execution_count": 76,
     "metadata": {},
     "output_type": "execute_result"
    }
   ],
   "source": [
    "# str.split um einzelne Wörter zu extrahieren\n",
    "# default separator: whitespace\n",
    "df[\"words\"] = df[\"Tweet\"].str.split() \n",
    "df.head()\n"
   ]
  },
  {
   "cell_type": "markdown",
   "metadata": {},
   "source": [
    "## Wortfrequenzanalyse"
   ]
  },
  {
   "cell_type": "code",
   "execution_count": 77,
   "metadata": {},
   "outputs": [
    {
     "name": "stdout",
     "output_type": "stream",
     "text": [
      "Anzahl Worte:  1343424\n",
      "|V|= 39772\n"
     ]
    },
    {
     "data": {
      "text/html": [
       "<div>\n",
       "<style scoped>\n",
       "    .dataframe tbody tr th:only-of-type {\n",
       "        vertical-align: middle;\n",
       "    }\n",
       "\n",
       "    .dataframe tbody tr th {\n",
       "        vertical-align: top;\n",
       "    }\n",
       "\n",
       "    .dataframe thead th {\n",
       "        text-align: right;\n",
       "    }\n",
       "</style>\n",
       "<table border=\"1\" class=\"dataframe\">\n",
       "  <thead>\n",
       "    <tr style=\"text-align: right;\">\n",
       "      <th></th>\n",
       "      <th>word</th>\n",
       "      <th>count</th>\n",
       "    </tr>\n",
       "  </thead>\n",
       "  <tbody>\n",
       "    <tr>\n",
       "      <th>0</th>\n",
       "      <td>the</td>\n",
       "      <td>44445</td>\n",
       "    </tr>\n",
       "    <tr>\n",
       "      <th>1</th>\n",
       "      <td>i</td>\n",
       "      <td>29190</td>\n",
       "    </tr>\n",
       "    <tr>\n",
       "      <th>2</th>\n",
       "      <td>to</td>\n",
       "      <td>28830</td>\n",
       "    </tr>\n",
       "    <tr>\n",
       "      <th>3</th>\n",
       "      <td>and</td>\n",
       "      <td>26590</td>\n",
       "    </tr>\n",
       "    <tr>\n",
       "      <th>4</th>\n",
       "      <td>a</td>\n",
       "      <td>24109</td>\n",
       "    </tr>\n",
       "  </tbody>\n",
       "</table>\n",
       "</div>"
      ],
      "text/plain": [
       "  word  count\n",
       "0  the  44445\n",
       "1    i  29190\n",
       "2   to  28830\n",
       "3  and  26590\n",
       "4    a  24109"
      ]
     },
     "execution_count": 77,
     "metadata": {},
     "output_type": "execute_result"
    }
   ],
   "source": [
    "# Alle Worte aus allen Zeilen zu einer einzigen Liste zusammenführen\n",
    "word_list = np.concatenate(df[\"words\"].values)\n",
    "print(\"Anzahl Worte: \", len(word_list))\n",
    "\n",
    "# Worte abzählen\n",
    "word_counts = pd.Series(word_list).value_counts()\n",
    "word_counts = word_counts.reset_index()\n",
    "word_counts.columns = [\"word\", \"count\"]\n",
    "print(\"|V|=\", len(word_counts.word))\n",
    "\n",
    "# Häufigste Wörter:\n",
    "word_counts.head()"
   ]
  },
  {
   "cell_type": "code",
   "execution_count": 78,
   "metadata": {},
   "outputs": [
    {
     "data": {
      "image/png": "[encoded data removed]",
      "text/plain": [
       "<Figure size 1000x600 with 1 Axes>"
      ]
     },
     "metadata": {},
     "output_type": "display_data"
    }
   ],
   "source": [
    "# Barchart Top 20 Wörter\n",
    "top_n = 20\n",
    "top_words = word_counts.head(top_n)\n",
    "\n",
    "# Plot\n",
    "plt.figure(figsize=(10, 6))\n",
    "plt.bar(top_words[\"word\"], top_words[\"count\"])\n",
    "plt.title(f\"Top {top_n} häufigste Wörter\")\n",
    "plt.xlabel(\"Wort\")\n",
    "plt.ylabel(\"Anzahl\")\n",
    "plt.xticks(rotation=45)\n",
    "plt.tight_layout()\n",
    "plt.show()"
   ]
  },
  {
   "cell_type": "markdown",
   "metadata": {},
   "source": [
    "## Stop Words entfernen"
   ]
  },
  {
   "cell_type": "code",
   "execution_count": 79,
   "metadata": {},
   "outputs": [
    {
     "name": "stdout",
     "output_type": "stream",
     "text": [
      "{'being', 'more', 'haven', 'couldn', 'above', 'ourselves', 'on', 'with', 'further', \"that'll\", 'while', 'whom', 'needn', 'through', \"it'll\", \"we'll\", 'is', 'or', 'up', 'ma', \"mightn't\", \"mustn't\", \"it'd\", 'doesn', 'yourselves', 'during', \"we'd\", \"they'll\", 'too', 'yours', 'before', 'this', 'just', 'weren', 'against', 't', 'are', \"hadn't\", 'here', 'in', 'me', 'he', \"i'll\", 'each', 'most', \"hasn't\", 'any', \"should've\", 'down', 'themselves', 'under', 'own', 'won', \"we've\", 'there', 'as', 'isn', \"we're\", 'shan', 'below', 'because', 'had', 'for', 'his', 'a', \"won't\", 'your', 'both', 'hadn', \"you're\", 's', 'which', 've', 'we', 'then', \"he'll\", \"shouldn't\", 'about', \"aren't\", 'until', 'after', 'of', 'only', 'off', 'if', \"you'd\", \"weren't\", \"don't\", 'such', 'same', \"i'm\", 'not', \"they're\", 'm', 'be', 'i', \"wouldn't\", \"you've\", 'the', 'her', 'from', \"they'd\", \"he's\", \"she'll\", 'itself', 'between', 'didn', 'she', 'should', 'but', \"doesn't\", 'will', \"wasn't\", 'have', 'were', \"i've\", 'o', 'our', 'y', 'you', 'am', 'shouldn', 'been', 'has', 'into', 'no', 'their', \"couldn't\", 'mustn', \"she's\", 'does', 'out', 'again', 'wasn', 'when', \"it's\", 'they', 'these', \"haven't\", 'its', \"she'd\", 'some', 'over', \"didn't\", 'was', 'why', 'mightn', \"isn't\", 'theirs', 'at', \"you'll\", 'doing', 'ain', 'my', 'hers', 're', 'what', 'other', 'by', 'did', 'them', 'an', 'having', 'nor', 'than', \"i'd\", 'those', 'all', 'him', 'aren', 'll', 'who', 'and', \"shan't\", \"they've\", 'so', 'myself', 'that', 'can', 'it', 'yourself', 'few', 'himself', 'to', 'now', \"needn't\", 'hasn', 'do', \"he'd\", 'herself', 'don', 'where', 'how', 'once', 'ours', 'wouldn', 'very', 'd'}\n"
     ]
    },
    {
     "data": {
      "text/html": [
       "<div>\n",
       "<style scoped>\n",
       "    .dataframe tbody tr th:only-of-type {\n",
       "        vertical-align: middle;\n",
       "    }\n",
       "\n",
       "    .dataframe tbody tr th {\n",
       "        vertical-align: top;\n",
       "    }\n",
       "\n",
       "    .dataframe thead th {\n",
       "        text-align: right;\n",
       "    }\n",
       "</style>\n",
       "<table border=\"1\" class=\"dataframe\">\n",
       "  <thead>\n",
       "    <tr style=\"text-align: right;\">\n",
       "      <th></th>\n",
       "      <th>ID</th>\n",
       "      <th>Keyword</th>\n",
       "      <th>Sentiment</th>\n",
       "      <th>Tweet</th>\n",
       "      <th>words</th>\n",
       "    </tr>\n",
       "  </thead>\n",
       "  <tbody>\n",
       "    <tr>\n",
       "      <th>0</th>\n",
       "      <td>2401</td>\n",
       "      <td>Borderlands</td>\n",
       "      <td>Positive</td>\n",
       "      <td>coming   borders    kill</td>\n",
       "      <td>[i, am, coming, to, the, borders, and, i, will...</td>\n",
       "    </tr>\n",
       "    <tr>\n",
       "      <th>1</th>\n",
       "      <td>2401</td>\n",
       "      <td>Borderlands</td>\n",
       "      <td>Positive</td>\n",
       "      <td>im getting  borderlands    kill</td>\n",
       "      <td>[im, getting, on, borderlands, and, i, will, k...</td>\n",
       "    </tr>\n",
       "    <tr>\n",
       "      <th>2</th>\n",
       "      <td>2401</td>\n",
       "      <td>Borderlands</td>\n",
       "      <td>Positive</td>\n",
       "      <td>im coming  borderlands    murder</td>\n",
       "      <td>[im, coming, on, borderlands, and, i, will, mu...</td>\n",
       "    </tr>\n",
       "    <tr>\n",
       "      <th>3</th>\n",
       "      <td>2401</td>\n",
       "      <td>Borderlands</td>\n",
       "      <td>Positive</td>\n",
       "      <td>im getting  borderlands 2    murder</td>\n",
       "      <td>[im, getting, on, borderlands, 2, and, i, will...</td>\n",
       "    </tr>\n",
       "    <tr>\n",
       "      <th>4</th>\n",
       "      <td>2401</td>\n",
       "      <td>Borderlands</td>\n",
       "      <td>Positive</td>\n",
       "      <td>im getting  borderlands    murder</td>\n",
       "      <td>[im, getting, into, borderlands, and, i, can, ...</td>\n",
       "    </tr>\n",
       "  </tbody>\n",
       "</table>\n",
       "</div>"
      ],
      "text/plain": [
       "     ID      Keyword Sentiment                                   Tweet  \\\n",
       "0  2401  Borderlands  Positive              coming   borders    kill     \n",
       "1  2401  Borderlands  Positive       im getting  borderlands    kill     \n",
       "2  2401  Borderlands  Positive      im coming  borderlands    murder     \n",
       "3  2401  Borderlands  Positive  im getting  borderlands 2    murder      \n",
       "4  2401  Borderlands  Positive     im getting  borderlands    murder     \n",
       "\n",
       "                                               words  \n",
       "0  [i, am, coming, to, the, borders, and, i, will...  \n",
       "1  [im, getting, on, borderlands, and, i, will, k...  \n",
       "2  [im, coming, on, borderlands, and, i, will, mu...  \n",
       "3  [im, getting, on, borderlands, 2, and, i, will...  \n",
       "4  [im, getting, into, borderlands, and, i, can, ...  "
      ]
     },
     "execution_count": 79,
     "metadata": {},
     "output_type": "execute_result"
    }
   ],
   "source": [
    "stop_words = set(stopwords.words(\"english\"))\n",
    "print(stop_words)\n",
    "\n",
    "pattern = r\"\\b(\" + \"|\".join(stop_words) + r\")\\b\" # regex für stop words\n",
    "df.Tweet = df.Tweet.str.replace(pattern, \"\", regex=True) # Stopwords entfernen\n",
    "\n",
    "df.head()\n"
   ]
  },
  {
   "cell_type": "markdown",
   "metadata": {},
   "source": [
    "### Neue Wortfrequenzanalyse"
   ]
  },
  {
   "cell_type": "code",
   "execution_count": 80,
   "metadata": {},
   "outputs": [
    {
     "data": {
      "text/html": [
       "<div>\n",
       "<style scoped>\n",
       "    .dataframe tbody tr th:only-of-type {\n",
       "        vertical-align: middle;\n",
       "    }\n",
       "\n",
       "    .dataframe tbody tr th {\n",
       "        vertical-align: top;\n",
       "    }\n",
       "\n",
       "    .dataframe thead th {\n",
       "        text-align: right;\n",
       "    }\n",
       "</style>\n",
       "<table border=\"1\" class=\"dataframe\">\n",
       "  <thead>\n",
       "    <tr style=\"text-align: right;\">\n",
       "      <th></th>\n",
       "      <th>ID</th>\n",
       "      <th>Keyword</th>\n",
       "      <th>Sentiment</th>\n",
       "      <th>Tweet</th>\n",
       "      <th>words</th>\n",
       "    </tr>\n",
       "  </thead>\n",
       "  <tbody>\n",
       "    <tr>\n",
       "      <th>0</th>\n",
       "      <td>2401</td>\n",
       "      <td>Borderlands</td>\n",
       "      <td>Positive</td>\n",
       "      <td>coming   borders    kill</td>\n",
       "      <td>[coming, borders, kill]</td>\n",
       "    </tr>\n",
       "    <tr>\n",
       "      <th>1</th>\n",
       "      <td>2401</td>\n",
       "      <td>Borderlands</td>\n",
       "      <td>Positive</td>\n",
       "      <td>im getting  borderlands    kill</td>\n",
       "      <td>[im, getting, borderlands, kill]</td>\n",
       "    </tr>\n",
       "    <tr>\n",
       "      <th>2</th>\n",
       "      <td>2401</td>\n",
       "      <td>Borderlands</td>\n",
       "      <td>Positive</td>\n",
       "      <td>im coming  borderlands    murder</td>\n",
       "      <td>[im, coming, borderlands, murder]</td>\n",
       "    </tr>\n",
       "    <tr>\n",
       "      <th>3</th>\n",
       "      <td>2401</td>\n",
       "      <td>Borderlands</td>\n",
       "      <td>Positive</td>\n",
       "      <td>im getting  borderlands 2    murder</td>\n",
       "      <td>[im, getting, borderlands, 2, murder]</td>\n",
       "    </tr>\n",
       "    <tr>\n",
       "      <th>4</th>\n",
       "      <td>2401</td>\n",
       "      <td>Borderlands</td>\n",
       "      <td>Positive</td>\n",
       "      <td>im getting  borderlands    murder</td>\n",
       "      <td>[im, getting, borderlands, murder]</td>\n",
       "    </tr>\n",
       "  </tbody>\n",
       "</table>\n",
       "</div>"
      ],
      "text/plain": [
       "     ID      Keyword Sentiment                                   Tweet  \\\n",
       "0  2401  Borderlands  Positive              coming   borders    kill     \n",
       "1  2401  Borderlands  Positive       im getting  borderlands    kill     \n",
       "2  2401  Borderlands  Positive      im coming  borderlands    murder     \n",
       "3  2401  Borderlands  Positive  im getting  borderlands 2    murder      \n",
       "4  2401  Borderlands  Positive     im getting  borderlands    murder     \n",
       "\n",
       "                                   words  \n",
       "0                [coming, borders, kill]  \n",
       "1       [im, getting, borderlands, kill]  \n",
       "2      [im, coming, borderlands, murder]  \n",
       "3  [im, getting, borderlands, 2, murder]  \n",
       "4     [im, getting, borderlands, murder]  "
      ]
     },
     "execution_count": 80,
     "metadata": {},
     "output_type": "execute_result"
    }
   ],
   "source": [
    "# str.split um einzelne Wörter zu extrahieren\n",
    "# default separator: whitespace\n",
    "df[\"words\"] = df[\"Tweet\"].str.split() \n",
    "df.head()"
   ]
  },
  {
   "cell_type": "code",
   "execution_count": 81,
   "metadata": {},
   "outputs": [
    {
     "name": "stdout",
     "output_type": "stream",
     "text": [
      "Anzahl Worte:  808384\n",
      "|V|= 39623\n"
     ]
    },
    {
     "data": {
      "image/png": "[encoded data removed]",
      "text/plain": [
       "<Figure size 1000x600 with 1 Axes>"
      ]
     },
     "metadata": {},
     "output_type": "display_data"
    }
   ],
   "source": [
    "# Alle Worte aus allen Zeilen zu einer einzigen Liste zusammenführen\n",
    "word_list = np.concatenate(df[\"words\"].values)\n",
    "print(\"Anzahl Worte: \", len(word_list))\n",
    "\n",
    "# Worte abzählen\n",
    "word_counts = pd.Series(word_list).value_counts()\n",
    "word_counts = word_counts.reset_index()\n",
    "word_counts.columns = [\"word\", \"count\"]\n",
    "print(\"|V|=\", len(word_counts.word))\n",
    "\n",
    "# Häufigste Wörter:\n",
    "word_counts.head()\n",
    "\n",
    "# Barchart Top 20 Wörter\n",
    "top_n = 20\n",
    "top_words = word_counts.head(top_n)\n",
    "\n",
    "# Plot\n",
    "plt.figure(figsize=(10, 6))\n",
    "plt.bar(top_words[\"word\"], top_words[\"count\"])\n",
    "plt.title(f\"Top {top_n} häufigste Wörter\")\n",
    "plt.xlabel(\"Wort\")\n",
    "plt.ylabel(\"Anzahl\")\n",
    "plt.xticks(rotation=45)\n",
    "plt.tight_layout()\n",
    "plt.show()"
   ]
  },
  {
   "cell_type": "markdown",
   "metadata": {},
   "source": [
    "## Byte Pair Encoding"
   ]
  },
  {
   "cell_type": "code",
   "execution_count": 17,
   "metadata": {},
   "outputs": [
    {
     "name": "stdout",
     "output_type": "stream",
     "text": [
      "\n",
      "\n",
      "\n",
      "Beispiel encoded:  ['like', 'windows', 'part', 'ition', 'm', 'ac', 'like', '6', 'years', 'behind', 'drivers', 'idea', 'didnt', 'not', 'ice']\n"
     ]
    },
    {
     "data": {
      "image/png": "[encoded data removed]",
      "text/plain": [
       "<Figure size 1000x600 with 1 Axes>"
      ]
     },
     "metadata": {},
     "output_type": "display_data"
    }
   ],
   "source": [
    "tokenizer = Tokenizer(BPE())\n",
    "tokenizer.pre_tokenizer = Whitespace() # zunächst Trennung durch Leerzeichen\n",
    "trainer = BpeTrainer(vocab_size=3000) # k=3000\n",
    "\n",
    "# Liste mit Texten\n",
    "tokenizer.train_from_iterator(df.Tweet, trainer) # tokenizer.train_from_iterator(iterator, trainer) - iteriere über die Tweets und verwende BPE als Trainer\n",
    "\n",
    "# Text tokenisieren und Token zählen\n",
    "all_tokens = []\n",
    "for sentence in df.Tweet: # iteriere durch jede Zeile der Tweets, sentence1 = erste Zeile in df.Tweet\n",
    "    encoded = tokenizer.encode(sentence) # Elemente des sentence werden Tokenisiert\n",
    "    all_tokens.extend(encoded.tokens) # .extend() fügt Elemente an das Ende einer Liste an\n",
    "\n",
    "print(\"Beispiel encoded: \", encoded.tokens)\n",
    "\n",
    "# Häufigkeiten \n",
    "token_series = pd.Series(all_tokens) # umwandeln der Liste als Pandas Series\n",
    "token_freq = token_series.value_counts()  # zählt Token\n",
    "top_n = 15\n",
    "top_tokens = token_freq.head(top_n)\n",
    "\n",
    "# Barplot mit matplotlib\n",
    "plt.figure(figsize=(10, 6))\n",
    "plt.bar(top_tokens.index, top_tokens.values)\n",
    "plt.title(f\"Top {top_n} häufigste BPE-Token\")\n",
    "plt.xlabel(\"Token\")\n",
    "plt.ylabel(\"Häufigkeit\")\n",
    "plt.xticks(rotation=45)\n",
    "plt.tight_layout()\n",
    "plt.show()"
   ]
  },
  {
   "cell_type": "code",
   "execution_count": 19,
   "metadata": {},
   "outputs": [
    {
     "data": {
      "text/html": [
       "<div>\n",
       "<style scoped>\n",
       "    .dataframe tbody tr th:only-of-type {\n",
       "        vertical-align: middle;\n",
       "    }\n",
       "\n",
       "    .dataframe tbody tr th {\n",
       "        vertical-align: top;\n",
       "    }\n",
       "\n",
       "    .dataframe thead th {\n",
       "        text-align: right;\n",
       "    }\n",
       "</style>\n",
       "<table border=\"1\" class=\"dataframe\">\n",
       "  <thead>\n",
       "    <tr style=\"text-align: right;\">\n",
       "      <th></th>\n",
       "      <th>ID</th>\n",
       "      <th>Keyword</th>\n",
       "      <th>Sentiment</th>\n",
       "      <th>Tweet</th>\n",
       "      <th>words</th>\n",
       "    </tr>\n",
       "  </thead>\n",
       "  <tbody>\n",
       "    <tr>\n",
       "      <th>0</th>\n",
       "      <td>2401</td>\n",
       "      <td>Borderlands</td>\n",
       "      <td>Positive</td>\n",
       "      <td>coming   borders    kill</td>\n",
       "      <td>[coming, borders, kill]</td>\n",
       "    </tr>\n",
       "    <tr>\n",
       "      <th>1</th>\n",
       "      <td>2401</td>\n",
       "      <td>Borderlands</td>\n",
       "      <td>Positive</td>\n",
       "      <td>im getting  borderlands    kill</td>\n",
       "      <td>[im, getting, borderlands, kill]</td>\n",
       "    </tr>\n",
       "    <tr>\n",
       "      <th>2</th>\n",
       "      <td>2401</td>\n",
       "      <td>Borderlands</td>\n",
       "      <td>Positive</td>\n",
       "      <td>im coming  borderlands    murder</td>\n",
       "      <td>[im, coming, borderlands, murder]</td>\n",
       "    </tr>\n",
       "    <tr>\n",
       "      <th>3</th>\n",
       "      <td>2401</td>\n",
       "      <td>Borderlands</td>\n",
       "      <td>Positive</td>\n",
       "      <td>im getting  borderlands 2    murder</td>\n",
       "      <td>[im, getting, borderlands, 2, murder]</td>\n",
       "    </tr>\n",
       "    <tr>\n",
       "      <th>4</th>\n",
       "      <td>2401</td>\n",
       "      <td>Borderlands</td>\n",
       "      <td>Positive</td>\n",
       "      <td>im getting  borderlands    murder</td>\n",
       "      <td>[im, getting, borderlands, murder]</td>\n",
       "    </tr>\n",
       "  </tbody>\n",
       "</table>\n",
       "</div>"
      ],
      "text/plain": [
       "     ID      Keyword Sentiment                                   Tweet  \\\n",
       "0  2401  Borderlands  Positive              coming   borders    kill     \n",
       "1  2401  Borderlands  Positive       im getting  borderlands    kill     \n",
       "2  2401  Borderlands  Positive      im coming  borderlands    murder     \n",
       "3  2401  Borderlands  Positive  im getting  borderlands 2    murder      \n",
       "4  2401  Borderlands  Positive     im getting  borderlands    murder     \n",
       "\n",
       "                                   words  \n",
       "0                [coming, borders, kill]  \n",
       "1       [im, getting, borderlands, kill]  \n",
       "2      [im, coming, borderlands, murder]  \n",
       "3  [im, getting, borderlands, 2, murder]  \n",
       "4     [im, getting, borderlands, murder]  "
      ]
     },
     "execution_count": 19,
     "metadata": {},
     "output_type": "execute_result"
    }
   ],
   "source": [
    "df.head()"
   ]
  },
  {
   "cell_type": "markdown",
   "metadata": {},
   "source": [
    "## Vectorization"
   ]
  },
  {
   "cell_type": "code",
   "execution_count": 62,
   "metadata": {},
   "outputs": [
    {
     "name": "stdout",
     "output_type": "stream",
     "text": [
      "['fun' 'is' 'love' 'nlp']\n",
      "  (0, 2)\t1\n",
      "  (0, 3)\t1\n",
      "  (1, 3)\t1\n",
      "  (1, 1)\t1\n",
      "  (1, 0)\t1\n",
      "  (2, 2)\t1\n",
      "  (2, 0)\t1\n"
     ]
    }
   ],
   "source": [
    "from sklearn.feature_extraction.text import CountVectorizer\n",
    "\n",
    "# Drei einfache Sätze\n",
    "texts = [\n",
    "    \"I love NLP\",\n",
    "    \"NLP is fun\",\n",
    "    \"I love fun\"\n",
    "]\n",
    "\n",
    "# BoW-Vektorisierung\n",
    "vectorizer = CountVectorizer()\n",
    "X = vectorizer.fit_transform(texts)\n",
    "\n",
    "print(vectorizer.get_feature_names_out())\n",
    "print(X)\n"
   ]
  },
  {
   "cell_type": "code",
   "execution_count": 63,
   "metadata": {},
   "outputs": [
    {
     "name": "stdout",
     "output_type": "stream",
     "text": [
      "['fun' 'love' 'nlp']\n",
      "  (0, 1)\t1\n",
      "  (0, 2)\t1\n",
      "  (1, 2)\t1\n",
      "  (1, 0)\t1\n",
      "  (2, 1)\t1\n",
      "  (2, 0)\t1\n"
     ]
    }
   ],
   "source": [
    "from sklearn.feature_extraction.text import CountVectorizer\n",
    "\n",
    "# Drei einfache Sätze\n",
    "texts = [\n",
    "    \"I love NLP\",\n",
    "    \"NLP is fun\",\n",
    "    \"I love fun\"\n",
    "]\n",
    "\n",
    "# BoW-Vektorisierung\n",
    "vectorizer = CountVectorizer(stop_words='english')\n",
    "X = vectorizer.fit_transform(texts)\n",
    "\n",
    "print(vectorizer.get_feature_names_out())\n",
    "print(X)"
   ]
  },
  {
   "cell_type": "markdown",
   "metadata": {},
   "source": [
    "## Beispiel aus https://scikit-learn.org/stable/modules/feature_extraction.html"
   ]
  },
  {
   "cell_type": "code",
   "execution_count": 97,
   "metadata": {},
   "outputs": [
    {
     "data": {
      "text/plain": [
       "<5x9 sparse matrix of type '<class 'numpy.int64'>'\n",
       "\twith 24 stored elements in Compressed Sparse Row format>"
      ]
     },
     "execution_count": 97,
     "metadata": {},
     "output_type": "execute_result"
    }
   ],
   "source": [
    "from sklearn.feature_extraction.text import CountVectorizer\n",
    "\n",
    "vectorizer = CountVectorizer()\n",
    "\n",
    "# Der Korpus besteheht aus 5 Dokumenten\n",
    "corpus = [\n",
    "    'This is the first document.', # \n",
    "    'This is the second second document.',\n",
    "    'And the third one.',\n",
    "    'Is this the first document?',\n",
    "    'Is this the first document document document?',\n",
    "]\n",
    "X = vectorizer.fit_transform(corpus) # Default: Tokenisierung von Strings mit mindestens 2 Buchstaben\n",
    "# Die Auftretenshäufigkeiten eines Token pro Dokument wird direkt berechnet\n",
    "X"
   ]
  },
  {
   "cell_type": "code",
   "execution_count": 98,
   "metadata": {},
   "outputs": [
    {
     "name": "stdout",
     "output_type": "stream",
     "text": [
      "  (0, 8)\t1\n",
      "  (0, 3)\t1\n",
      "  (0, 6)\t1\n",
      "  (0, 2)\t1\n",
      "  (0, 1)\t1\n",
      "  (1, 8)\t1\n",
      "  (1, 3)\t1\n",
      "  (1, 6)\t1\n",
      "  (1, 1)\t1\n",
      "  (1, 5)\t2\n",
      "  (2, 6)\t1\n",
      "  (2, 0)\t1\n",
      "  (2, 7)\t1\n",
      "  (2, 4)\t1\n",
      "  (3, 8)\t1\n",
      "  (3, 3)\t1\n",
      "  (3, 6)\t1\n",
      "  (3, 2)\t1\n",
      "  (3, 1)\t1\n",
      "  (4, 8)\t1\n",
      "  (4, 3)\t1\n",
      "  (4, 6)\t1\n",
      "  (4, 2)\t1\n",
      "  (4, 1)\t3\n"
     ]
    }
   ],
   "source": [
    "print(X)\n",
    "# (x,y): Das Tupel gibt die Position in der Matrix an, z.B. Dokument 0 (Zeile 0), Token 8 - daneben steht die Auftretenshäufigkeit, hier 1 Mal\n",
    "# In Dokument 4 tritt das Token 1 3 Mal auf, also das Wort document hat die Häufigkeit 3 in Dokument 4 "
   ]
  },
  {
   "cell_type": "code",
   "execution_count": 94,
   "metadata": {},
   "outputs": [
    {
     "data": {
      "text/plain": [
       "['this', 'is', 'text', 'document', 'to', 'analyze']"
      ]
     },
     "execution_count": 94,
     "metadata": {},
     "output_type": "execute_result"
    }
   ],
   "source": [
    "# Die Tokenisierung kann man sich explizit ausgeben lassen, im Beispiel oben passiert das im Hintergrund\n",
    "analyze = vectorizer.build_analyzer()\n",
    "analyze(\"This is a text document to analyze.\") # Tokenisierung"
   ]
  },
  {
   "cell_type": "code",
   "execution_count": 95,
   "metadata": {},
   "outputs": [
    {
     "name": "stdout",
     "output_type": "stream",
     "text": [
      "['and' 'document' 'first' 'is' 'one' 'second' 'the' 'third' 'this']\n"
     ]
    },
    {
     "data": {
      "text/plain": [
       "array([[0, 1, 1, 1, 0, 0, 1, 0, 1],\n",
       "       [0, 1, 0, 1, 0, 2, 1, 0, 1],\n",
       "       [1, 0, 0, 0, 1, 0, 1, 1, 0],\n",
       "       [0, 1, 1, 1, 0, 0, 1, 0, 1],\n",
       "       [0, 3, 1, 1, 0, 0, 1, 0, 1]])"
      ]
     },
     "execution_count": 95,
     "metadata": {},
     "output_type": "execute_result"
    }
   ],
   "source": [
    "# Jedes Token entspricht einer Spalte in einer Matrix\n",
    "# Jede Zeile entspricht einem Dokument aus dem Korpus\n",
    "# Für Jedes Dokument wird in der Zeile die Auftretenshäufigkeiten pro Token eingetragen \n",
    "print(vectorizer.get_feature_names_out())\n",
    "X.toarray()\n",
    "\n",
    "# Diese Matrix ist \"sparse\", dh viele Einträge sind 0\n",
    "# Bei einem Korpus mit sehr vielen verschiedenen Token braucht diese Repräsentation viel Speicherplatz\n",
    "# Daher Sparse Matrix in Compressed Sparse Row Format (siehe oben)"
   ]
  },
  {
   "cell_type": "code",
   "execution_count": 99,
   "metadata": {},
   "outputs": [
    {
     "data": {
      "text/plain": [
       "{'this': 8,\n",
       " 'is': 3,\n",
       " 'the': 6,\n",
       " 'first': 2,\n",
       " 'document': 1,\n",
       " 'second': 5,\n",
       " 'and': 0,\n",
       " 'third': 7,\n",
       " 'one': 4}"
      ]
     },
     "execution_count": 99,
     "metadata": {},
     "output_type": "execute_result"
    }
   ],
   "source": [
    "vectorizer.vocabulary_"
   ]
  },
  {
   "cell_type": "code",
   "execution_count": 100,
   "metadata": {},
   "outputs": [
    {
     "data": {
      "text/plain": [
       "array([[0, 0, 0, 0, 0, 0, 0, 0, 0]])"
      ]
     },
     "execution_count": 100,
     "metadata": {},
     "output_type": "execute_result"
    }
   ],
   "source": [
    "# transform um das Vokubular auf neue Dokumente anzuwenden\n",
    "vectorizer.transform(['Something completely new.']).toarray() # keins der Token kommt im Vokabular vor, das gelernt wurde."
   ]
  },
  {
   "cell_type": "markdown",
   "metadata": {},
   "source": [
    "## Bigram Counts"
   ]
  },
  {
   "cell_type": "code",
   "execution_count": 85,
   "metadata": {},
   "outputs": [
    {
     "name": "stdout",
     "output_type": "stream",
     "text": [
      "Top 8 Bigramme:\n",
      "             bigram  count\n",
      "           red dead   1495\n",
      "    johnson johnson   1202\n",
      "    dead redemption   1185\n",
      "         home depot    967\n",
      "rhandlerr rhandlerr    806\n",
      "    assassins creed    781\n",
      "        italy italy    769\n",
      "        xbox series    701\n"
     ]
    }
   ],
   "source": [
    "# Vektorisierer für Bigramme\n",
    "vectorizer = CountVectorizer(ngram_range=(2, 2), stop_words='english') # ngram_range gibt das untere und obere ende für n-grams an\n",
    "# bigram ngram_range(2,2), unigrams und bigrams ngram_range(1,2) etc., default ist ngram_range(1,1) unigrams\n",
    "X = vectorizer.fit_transform(df.Tweet) # Lernen des Vokabulars aus dem Korpus, die Rückgabe ist eine Document-Term Matrix\n",
    "\n",
    "# Feature-Namen (Bigramme) extrahieren\n",
    "bigrams = vectorizer.get_feature_names_out()\n",
    "\n",
    "# Bigram-Counts summieren\n",
    "counts = X.toarray().sum(axis=0)\n",
    "\n",
    "# Als DataFrame zur Auswertung\n",
    "df_bigrams = pd.DataFrame({\n",
    "    'bigram': bigrams,\n",
    "    'count': counts\n",
    "})\n",
    "\n",
    "# Sortieren & Top 8 anzeigen\n",
    "top_bigrams = df_bigrams.sort_values(by='count', ascending=False).head(8)\n",
    "print(\"Top 8 Bigramme:\")\n",
    "print(top_bigrams.to_string(index=False))"
   ]
  },
  {
   "cell_type": "markdown",
   "metadata": {},
   "source": [
    "## KNN Training und Test"
   ]
  },
  {
   "cell_type": "code",
   "execution_count": 216,
   "metadata": {},
   "outputs": [],
   "source": [
    "# Dokumente (Inputvariablen) und Outputvariable trennen\n",
    "X = df[\"Tweet\"] # Input\n",
    "y = df[\"Sentiment\"] # Output\n",
    "\n",
    "# Hold-out-set: hierauf werden keine Modellentscheidungen getroffen\n",
    "X_model, X_val, y_model, y_val = train_test_split(X, y, test_size=0.2, random_state=42)\n",
    "\n",
    "res = []"
   ]
  },
  {
   "cell_type": "code",
   "execution_count": 217,
   "metadata": {},
   "outputs": [],
   "source": [
    "# Train/Test-Split\n",
    "X_train, X_test, y_train, y_test = train_test_split(X_model, y_model, test_size=0.2, random_state=42)"
   ]
  },
  {
   "cell_type": "code",
   "execution_count": 218,
   "metadata": {},
   "outputs": [
    {
     "name": "stdout",
     "output_type": "stream",
     "text": [
      "['00' '000' '00011' ... '٩ᴗ۶' 'घरच' 'ดการออกอากาศของฉนจาก']\n",
      "              precision    recall  f1-score   support\n",
      "\n",
      "  Irrelevant       0.84      0.77      0.80      2104\n",
      "    Negative       0.85      0.85      0.85      3619\n",
      "     Neutral       0.78      0.81      0.80      2948\n",
      "    Positive       0.81      0.84      0.83      3169\n",
      "\n",
      "    accuracy                           0.82     11840\n",
      "   macro avg       0.82      0.82      0.82     11840\n",
      "weighted avg       0.82      0.82      0.82     11840\n",
      "\n",
      "Genauigkeit: 0.8228885135135136\n",
      "F1 Score weighted: 0.8228384605071994\n"
     ]
    }
   ],
   "source": [
    "## Modell 1\n",
    "\n",
    "# Bag-of-Words-Vektorisierung: Vokabular auf Trainingsdaten\n",
    "vectorizer = CountVectorizer()  # ohne Stopwords und Unigrams\n",
    "X_train_bow = vectorizer.fit_transform(X_train)\n",
    "print(vectorizer.get_feature_names_out())\n",
    "\n",
    "# KNN Modell trainieren\n",
    "clf = KNeighborsClassifier(n_neighbors=3)\n",
    "clf.fit(X_train_bow, y_train) # y muss nicht unbedingt numerisch sein\n",
    "\n",
    "# Vektorisierung der Testdaten\n",
    "X_test_bow = vectorizer.transform(X_test) # Vektorisierung der Testdaten basierend auf dem gelernten Vokabular\n",
    "\n",
    "# Vorhersagen & Bewertung\n",
    "y_pred = clf.predict(X_test_bow)\n",
    "\n",
    "#print(\"Klassifikationsbericht:\")\n",
    "print(classification_report(y_test, y_pred))\n",
    "\n",
    "print(\"Genauigkeit:\", accuracy_score(y_test, y_pred))\n",
    "print(\"F1 Score weighted:\", f1_score(y_test, y_pred, average='weighted')) # Multiclass f1-score, mit Berücksichtigung von class imbalance\n",
    "\n",
    "res.extend([['Modell 1', f1_score(y_test, y_pred, average='weighted')]])"
   ]
  },
  {
   "cell_type": "code",
   "execution_count": 219,
   "metadata": {},
   "outputs": [
    {
     "name": "stdout",
     "output_type": "stream",
     "text": [
      "['00' '000' '00011' ... '٩ᴗ۶' 'घरच' 'ดการออกอากาศของฉนจาก']\n",
      "              precision    recall  f1-score   support\n",
      "\n",
      "  Irrelevant       0.94      0.86      0.90      2104\n",
      "    Negative       0.89      0.91      0.90      3619\n",
      "     Neutral       0.82      0.95      0.88      2948\n",
      "    Positive       0.93      0.82      0.87      3169\n",
      "\n",
      "    accuracy                           0.89     11840\n",
      "   macro avg       0.89      0.88      0.89     11840\n",
      "weighted avg       0.89      0.89      0.89     11840\n",
      "\n",
      "Genauigkeit: 0.8862331081081081\n",
      "F1 Score weighted: 0.886184565738784\n"
     ]
    }
   ],
   "source": [
    "## Modell 1 mit L2 Normalisierung\n",
    "\n",
    "# Bag-of-Words-Vektorisierung: Vokabular auf Trainingsdaten\n",
    "vectorizer = CountVectorizer()  # mit Stopwords und Unigrams\n",
    "X_train_bow = vectorizer.fit_transform(X_train)\n",
    "\n",
    "# Normalisierung\n",
    "normalizer = Normalizer(norm='l2')\n",
    "X_train_bow_norm = normalizer.transform(X_train_bow)\n",
    "print(vectorizer.get_feature_names_out())\n",
    "\n",
    "# KNN Modell trainieren\n",
    "clf = KNeighborsClassifier(n_neighbors=3)\n",
    "clf.fit(X_train_bow_norm, y_train) # y muss nicht unbedingt numerisch sein\n",
    "\n",
    "# Vektorisierung der Testdaten\n",
    "X_test_bow = vectorizer.transform(X_test) # Vektorisierung der Testdaten basierend auf dem gelernten Vokabular\n",
    "X_test_bow_norm = normalizer.transform(X_test_bow)\n",
    "\n",
    "# Vorhersagen & Bewertung\n",
    "y_pred = clf.predict(X_test_bow_norm)\n",
    "\n",
    "#print(\"Klassifikationsbericht:\")\n",
    "print(classification_report(y_test, y_pred))\n",
    "\n",
    "print(\"Genauigkeit:\", accuracy_score(y_test, y_pred))\n",
    "print(\"F1 Score weighted:\", f1_score(y_test, y_pred, average='weighted')) # Multiclass f1-score, mit Berücksichtigung von class imbalance\n",
    "\n",
    "res.extend([['Modell 1 L2 Norm', f1_score(y_test, y_pred, average='weighted')]])"
   ]
  },
  {
   "cell_type": "code",
   "execution_count": 220,
   "metadata": {},
   "outputs": [
    {
     "name": "stdout",
     "output_type": "stream",
     "text": [
      "['00' '000' '00011' ... '٩ᴗ۶' 'घरच' 'ดการออกอากาศของฉนจาก']\n",
      "              precision    recall  f1-score   support\n",
      "\n",
      "  Irrelevant       0.92      0.85      0.89      2104\n",
      "    Negative       0.89      0.90      0.90      3619\n",
      "     Neutral       0.80      0.94      0.87      2948\n",
      "    Positive       0.93      0.81      0.87      3169\n",
      "\n",
      "    accuracy                           0.88     11840\n",
      "   macro avg       0.89      0.88      0.88     11840\n",
      "weighted avg       0.89      0.88      0.88     11840\n",
      "\n",
      "Genauigkeit: 0.8796452702702703\n",
      "F1 Score weighted: 0.8797808917307471\n"
     ]
    }
   ],
   "source": [
    "## Modell 1 mit L2 Normalisierung\n",
    "\n",
    "# Bag-of-Words-Vektorisierung: Vokabular auf Trainingsdaten\n",
    "vectorizer = CountVectorizer(stop_words='english')  # mit Stopwords und Unigrams\n",
    "X_train_bow = vectorizer.fit_transform(X_train)\n",
    "\n",
    "# Normalisierung\n",
    "normalizer = Normalizer(norm='l2')\n",
    "X_train_bow_norm = normalizer.transform(X_train_bow)\n",
    "print(vectorizer.get_feature_names_out())\n",
    "\n",
    "# KNN Modell trainieren\n",
    "clf = KNeighborsClassifier(n_neighbors=3)\n",
    "clf.fit(X_train_bow_norm, y_train) # y muss nicht unbedingt numerisch sein\n",
    "\n",
    "# Vektorisierung der Testdaten\n",
    "X_test_bow = vectorizer.transform(X_test) # Vektorisierung der Testdaten basierend auf dem gelernten Vokabular\n",
    "X_test_bow_norm = normalizer.transform(X_test_bow)\n",
    "\n",
    "# Vorhersagen & Bewertung\n",
    "y_pred = clf.predict(X_test_bow_norm)\n",
    "\n",
    "#print(\"Klassifikationsbericht:\")\n",
    "print(classification_report(y_test, y_pred))\n",
    "\n",
    "print(\"Genauigkeit:\", accuracy_score(y_test, y_pred))\n",
    "print(\"F1 Score weighted:\", f1_score(y_test, y_pred, average='weighted')) # Multiclass f1-score, mit Berücksichtigung von class imbalance\n",
    "\n",
    "res.extend([['Modell 1 L2 Norm, Stop words', f1_score(y_test, y_pred, average='weighted')]])"
   ]
  },
  {
   "cell_type": "code",
   "execution_count": 221,
   "metadata": {},
   "outputs": [
    {
     "name": "stdout",
     "output_type": "stream",
     "text": [
      "['00' '00 000' '00 000 british' ... 'घरच pictwittercomg26crown4e'\n",
      " 'ดการออกอากาศของฉนจาก' 'ดการออกอากาศของฉนจาก unk']\n",
      "              precision    recall  f1-score   support\n",
      "\n",
      "  Irrelevant       0.93      0.79      0.86      2104\n",
      "    Negative       0.81      0.84      0.82      3619\n",
      "     Neutral       0.69      0.96      0.80      2948\n",
      "    Positive       0.94      0.66      0.78      3169\n",
      "\n",
      "    accuracy                           0.81     11840\n",
      "   macro avg       0.84      0.81      0.82     11840\n",
      "weighted avg       0.84      0.81      0.81     11840\n",
      "\n",
      "Genauigkeit: 0.8128378378378378\n",
      "F1 Score weighted: 0.8123861443512915\n"
     ]
    }
   ],
   "source": [
    "## Modell 3\n",
    "\n",
    "# Bag-of-Words-Vektorisierung: Vokabular auf Trainingsdaten\n",
    "vectorizer = CountVectorizer(stop_words='english', ngram_range=(1, 3))  # mit Stopwords und Unigrams\n",
    "X_train_bow = vectorizer.fit_transform(X_train)\n",
    "\n",
    "# Normalisierung\n",
    "normalizer = Normalizer(norm='l2')\n",
    "X_train_bow_norm = normalizer.transform(X_train_bow)\n",
    "print(vectorizer.get_feature_names_out())\n",
    "\n",
    "# KNN Modell trainieren\n",
    "clf = KNeighborsClassifier(n_neighbors=3)\n",
    "clf.fit(X_train_bow_norm, y_train) # y muss nicht unbedingt numerisch sein\n",
    "\n",
    "# Vektorisierung der Testdaten\n",
    "X_test_bow = vectorizer.transform(X_test) # Vektorisierung der Testdaten basierend auf dem gelernten Vokabular\n",
    "X_test_bow_norm = normalizer.transform(X_test_bow)\n",
    "\n",
    "# Vorhersagen & Bewertung\n",
    "y_pred = clf.predict(X_test_bow_norm)\n",
    "\n",
    "#print(\"Klassifikationsbericht:\")\n",
    "print(classification_report(y_test, y_pred))\n",
    "\n",
    "print(\"Genauigkeit:\", accuracy_score(y_test, y_pred))\n",
    "print(\"F1 Score weighted:\", f1_score(y_test, y_pred, average='weighted')) # Multiclass f1-score, mit Berücksichtigung von class imbalance\n",
    "\n",
    "res.extend([['Modell 3 L2 Norm, Stop words, n-gram ', f1_score(y_test, y_pred, average='weighted')]])\n"
   ]
  },
  {
   "cell_type": "code",
   "execution_count": 222,
   "metadata": {},
   "outputs": [
    {
     "name": "stdout",
     "output_type": "stream",
     "text": [
      "['00' '000' '00011' ... '٩ᴗ۶' 'घरच' 'ดการออกอากาศของฉนจาก']\n",
      "              precision    recall  f1-score   support\n",
      "\n",
      "  Irrelevant       0.94      0.86      0.90      2104\n",
      "    Negative       0.86      0.89      0.88      3619\n",
      "     Neutral       0.78      0.95      0.86      2948\n",
      "    Positive       0.94      0.76      0.84      3169\n",
      "\n",
      "    accuracy                           0.87     11840\n",
      "   macro avg       0.88      0.87      0.87     11840\n",
      "weighted avg       0.88      0.87      0.87     11840\n",
      "\n",
      "Genauigkeit: 0.8664695945945946\n",
      "F1 Score weighted: 0.866311150468033\n"
     ]
    }
   ],
   "source": [
    "# Modell 4\n",
    "\n",
    "# TF-IDF-Vektorisierung\n",
    "vectorizer = TfidfVectorizer(stop_words='english')  # Englisch-Stopwords automatisch entfernen\n",
    "X_train_bow = vectorizer.fit_transform(X_train)\n",
    "\n",
    "\n",
    "# Normalisierung\n",
    "normalizer = Normalizer(norm='l2')\n",
    "X_train_bow_norm = normalizer.transform(X_train_bow)\n",
    "print(vectorizer.get_feature_names_out())\n",
    "\n",
    "# KNN Modell trainieren\n",
    "clf = KNeighborsClassifier(n_neighbors=3)\n",
    "clf.fit(X_train_bow_norm, y_train) # y muss nicht unbedingt numerisch sein\n",
    "\n",
    "# Vektorisierung der Testdaten\n",
    "X_test_bow = vectorizer.transform(X_test) # Vektorisierung der Testdaten basierend auf dem gelernten Vokabular\n",
    "X_test_bow_norm = normalizer.transform(X_test_bow)\n",
    "\n",
    "# Vorhersagen & Bewertung\n",
    "y_pred = clf.predict(X_test_bow_norm)\n",
    "\n",
    "#print(\"Klassifikationsbericht:\")\n",
    "print(classification_report(y_test, y_pred))\n",
    "\n",
    "print(\"Genauigkeit:\", accuracy_score(y_test, y_pred))\n",
    "print(\"F1 Score weighted:\", f1_score(y_test, y_pred, average='weighted')) # Multiclass f1-score, mit Berücksichtigung von class imbalance\n",
    "res.extend([['Modell TFIDF', f1_score(y_test, y_pred, average='weighted')]])"
   ]
  },
  {
   "cell_type": "code",
   "execution_count": 223,
   "metadata": {},
   "outputs": [
    {
     "data": {
      "text/plain": [
       "[['Modell 1', 0.8228384605071994],\n",
       " ['Modell 1 L2 Norm', 0.886184565738784],\n",
       " ['Modell 1 L2 Norm, Stop words', 0.8797808917307471],\n",
       " ['Modell 3 L2 Norm, Stop words, n-gram ', 0.8123861443512915],\n",
       " ['Modell TFIDF', 0.866311150468033]]"
      ]
     },
     "execution_count": 223,
     "metadata": {},
     "output_type": "execute_result"
    }
   ],
   "source": [
    "res # Modell 1 schneidet am besten ab"
   ]
  },
  {
   "cell_type": "code",
   "execution_count": 225,
   "metadata": {},
   "outputs": [
    {
     "name": "stdout",
     "output_type": "stream",
     "text": [
      "1\n",
      "2\n",
      "3\n",
      "4\n",
      "5\n",
      "6\n",
      "7\n",
      "8\n",
      "9\n"
     ]
    }
   ],
   "source": [
    "# Testen von verschiedenen k \n",
    "## Modell 1\n",
    "\n",
    "# Bag-of-Words-Vektorisierung: Vokabular auf Trainingsdaten\n",
    "vectorizer = CountVectorizer()  # ohne Stopwords und Unigrams\n",
    "X_train_bow = vectorizer.fit_transform(X_train)\n",
    "\n",
    "normalizer = Normalizer(norm='l2')\n",
    "X_train_bow_norm = normalizer.transform(X_train_bow)\n",
    "\n",
    "res_knn = []\n",
    "# KNN Modell trainieren\n",
    "\n",
    "for k in range(1,10,1):\n",
    "    print(k)\n",
    "    clf = KNeighborsClassifier(n_neighbors=k)\n",
    "    clf.fit(X_train_bow_norm, y_train)\n",
    "\n",
    "    # Vektorisierung der Testdaten\n",
    "    X_test_bow = vectorizer.transform(X_test) # Vektorisierung der Testdaten basierend auf dem gelernten Vokabular\n",
    "    X_test_bow_norm = normalizer.transform(X_test_bow)\n",
    "\n",
    "    # Vorhersagen & Bewertung\n",
    "    y_pred = clf.predict(X_test_bow)\n",
    "\n",
    "    res_knn.extend([[k, f1_score(y_test, y_pred, average='weighted')]])"
   ]
  },
  {
   "cell_type": "code",
   "execution_count": 175,
   "metadata": {},
   "outputs": [
    {
     "data": {
      "text/plain": [
       "[{0.8741927069891007, 1},\n",
       " {0.8373558785991901, 2},\n",
       " {0.8228384605071994, 3},\n",
       " {0.7893384140576466, 4},\n",
       " {0.7653450760739721, 5},\n",
       " {0.7370851772294479, 6},\n",
       " {0.7067369126074194, 7},\n",
       " {0.67865297223531, 8},\n",
       " {0.655830136135086, 9}]"
      ]
     },
     "execution_count": 175,
     "metadata": {},
     "output_type": "execute_result"
    }
   ],
   "source": [
    "res_knn # k =1 liefert das beste Modell"
   ]
  },
  {
   "cell_type": "code",
   "execution_count": 226,
   "metadata": {},
   "outputs": [
    {
     "name": "stdout",
     "output_type": "stream",
     "text": [
      "['00' '000' '00011' ... 'घरच' 'ดการออกอากาศของฉนจาก' 'ℐℓ٥']\n",
      "              precision    recall  f1-score   support\n",
      "\n",
      "  Irrelevant       0.96      0.91      0.94      2624\n",
      "    Negative       0.96      0.93      0.95      4463\n",
      "     Neutral       0.97      0.93      0.95      3589\n",
      "    Positive       0.87      0.96      0.91      4123\n",
      "\n",
      "    accuracy                           0.94     14799\n",
      "   macro avg       0.94      0.93      0.94     14799\n",
      "weighted avg       0.94      0.94      0.94     14799\n",
      "\n",
      "Genauigkeit: 0.935401040610852\n",
      "F1 Score weighted: 0.9358424777539442\n"
     ]
    }
   ],
   "source": [
    "# Test des Modells mit festen Parametern auf Hold-out-set\n",
    "## Modell 1\n",
    "\n",
    "# Bag-of-Words-Vektorisierung: Vokabular auf Trainingsdaten\n",
    "vectorizer = CountVectorizer()  # mit Stopwords und Unigrams\n",
    "X_model_bow = vectorizer.fit_transform(X_model)\n",
    "normalizer = Normalizer(norm='l2')\n",
    "X_model_bow_norm = normalizer.transform(X_model_bow)\n",
    "\n",
    "print(vectorizer.get_feature_names_out())\n",
    "\n",
    "# KNN Modell trainieren\n",
    "clf = KNeighborsClassifier(n_neighbors=1)\n",
    "clf.fit(X_model_bow_norm, y_model)\n",
    "\n",
    "# Vektorisierung der Testdaten\n",
    "X_val_bow = vectorizer.transform(X_val) # Vektorisierung der Testdaten basierend auf dem gelernten Vokabular\n",
    "X_val_bow_norm = normalizer.transform(X_val_bow)\n",
    "\n",
    "# Vorhersagen & Bewertung\n",
    "y_pred = clf.predict(X_val_bow)\n",
    "\n",
    "#print(\"Klassifikationsbericht:\")\n",
    "print(classification_report(y_val, y_pred))\n",
    "\n",
    "print(\"Genauigkeit:\", accuracy_score(y_val, y_pred))\n",
    "print(\"F1 Score weighted:\", f1_score(y_val, y_pred, average='weighted')) # Multiclass f1-score, mit Berücksichtigung von class imbalance\n",
    "\n",
    "res.extend([['Modell auf Hold-out-set', f1_score(y_val, y_pred, average='weighted')]])\n",
    "\n"
   ]
  },
  {
   "cell_type": "code",
   "execution_count": 227,
   "metadata": {},
   "outputs": [
    {
     "name": "stdout",
     "output_type": "stream",
     "text": [
      "Token:    think   hurt  ; Echtes Sentiment:  Irrelevant ; Vorhergesagtes Sentiment:  Negative\n",
      "Token:    time ; Echtes Sentiment:  Positive ; Vorhergesagtes Sentiment:  Positive\n",
      "Token:  calls  _ z1rv _   tweet98 got   sore ass ; Echtes Sentiment:  Neutral ; Vorhergesagtes Sentiment:  Neutral\n",
      "Token:   cod black ops cold war  gonna  ass  realthunder402    dropping  ; Echtes Sentiment:  Negative ; Vorhergesagtes Sentiment:  Negative\n",
      "Token:   happy   ; Echtes Sentiment:  Negative ; Vorhergesagtes Sentiment:  Positive\n",
      "Token:   gave   69   herbert  75 im sick  ; Echtes Sentiment:  Negative ; Vorhergesagtes Sentiment:  Negative\n",
      "Token:   yo hey    people  retweeting  tweet  regarding       part well  dota series 2 scene     know   never  eager  punish sir toby  others abusers  retweets      double standarts much mr cmon dude ; Echtes Sentiment:  Neutral ; Vorhergesagtes Sentiment:  Neutral\n",
      "Token:    log   playstation   see  playstation cancel  preorder  cyberpunk 2077   reason   unacceptable yall   fix cuz im  going  pay  much money   playstation ; Echtes Sentiment:  Irrelevant ; Vorhergesagtes Sentiment:  Irrelevant\n",
      "Token:    know  76  best friends talk call  duty ; Echtes Sentiment:  Negative ; Vorhergesagtes Sentiment:  Negative\n",
      "Token:  finally hit diamond  playing mostly ana im super happy  also kind  horrified   amount  times ive played  video ; Echtes Sentiment:  Positive ; Vorhergesagtes Sentiment:  Positive\n"
     ]
    }
   ],
   "source": [
    "# Anzeigen einiger Beispiele\n",
    "\n",
    "for i in range(10):\n",
    "    print('Documents: ', X_val.iloc[i], '; Echtes Sentiment: ', y_val.iloc[i], '; Vorhergesagtes Sentiment: ', y_pred[i])\n"
   ]
  }
 ],
 "metadata": {
  "kernelspec": {
   "display_name": "ISLP",
   "language": "python",
   "name": "python3"
  },
  "language_info": {
   "codemirror_mode": {
    "name": "ipython",
    "version": 3
   },
   "file_extension": ".py",
   "mimetype": "text/x-python",
   "name": "python",
   "nbconvert_exporter": "python",
   "pygments_lexer": "ipython3",
   "version": "3.9.19"
  }
 },
 "nbformat": 4,
 "nbformat_minor": 2
}
